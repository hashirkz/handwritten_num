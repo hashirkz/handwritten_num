{
 "cells": [
  {
   "cell_type": "code",
   "execution_count": 7,
   "metadata": {},
   "outputs": [],
   "source": [
    "import numpy as np\n",
    "import pandas as pd\n",
    "import matplotlib.pyplot as plt\n",
    "import tensorflow as tf\n",
    "\n",
    "# reading train and test data and shuffling train data \n",
    "TRAIN = pd.read_csv('./train.csv').to_numpy(dtype='int64')\n",
    "TEST = pd.read_csv('./test.csv').to_numpy(dtype='int64')\n",
    "np.random.shuffle(TRAIN)\n",
    "\n",
    "# these are train/test x y but those are dumb names\n",
    "imgs, labels = TRAIN[:, 1:], TRAIN[:, 0]\n",
    "imgs_test, labels_test = TEST[:, 1:], TEST[:, 0]"
   ]
  },
  {
   "cell_type": "code",
   "execution_count": 17,
   "metadata": {},
   "outputs": [
    {
     "name": "stdout",
     "output_type": "stream",
     "text": [
      "label: 2\n"
     ]
    },
    {
     "data": {
      "image/png": "[encoded data removed]",
      "text/plain": [
       "<Figure size 432x288 with 1 Axes>"
      ]
     },
     "metadata": {
      "needs_background": "light"
     },
     "output_type": "display_data"
    }
   ],
   "source": [
    "# read the nth image from either the test or training set\n",
    "# if your using this to view/graph the image pass view=True\n",
    "def read_nth_img(data, n, view=False):\n",
    "\n",
    "    # read training data into image arrays\n",
    "    img = data[n:n+1, 1:].reshape(28, 28) if view else np.transpose(data[n:n+1, 1:])\n",
    "    label = data[n, 0]\n",
    "    \n",
    "    return [img, label]\n",
    "\n",
    "# plot numpy array *img* as grayscale image on matplotlib graph\n",
    "def graph_img(img):\n",
    "    plt.imshow(img, cmap='gray', vmin=0, vmax=255)\n",
    "    plt.show()\n",
    "\n",
    "# example call to view a training data image\n",
    "img, label = read_nth_img(TRAIN, 217, view=True)\n",
    "print(f'label: {label}')\n",
    "graph_img(img)\n"
   ]
  },
  {
   "cell_type": "code",
   "execution_count": 15,
   "metadata": {},
   "outputs": [
    {
     "name": "stdout",
     "output_type": "stream",
     "text": [
      "Epoch 1/5\n",
      "1875/1875 [==============================] - 7s 3ms/step - loss: 1.4649 - accuracy: 0.8814\n",
      "Epoch 2/5\n",
      "1875/1875 [==============================] - 6s 3ms/step - loss: 0.2891 - accuracy: 0.9327\n",
      "Epoch 3/5\n",
      "1875/1875 [==============================] - 6s 3ms/step - loss: 0.1822 - accuracy: 0.9496\n",
      "Epoch 4/5\n",
      "1875/1875 [==============================] - 6s 3ms/step - loss: 0.1580 - accuracy: 0.9558\n",
      "Epoch 5/5\n",
      "1875/1875 [==============================] - 6s 3ms/step - loss: 0.1412 - accuracy: 0.9596\n",
      "313/313 [==============================] - 1s 3ms/step - loss: 0.2017 - accuracy: 0.9515\n",
      "test_data:\n",
      "loss: 0.20169603824615479\n",
      "acc: 0.9514999985694885\n",
      "\n",
      "INFO:tensorflow:Assets written to: handwritten_ml\\assets\n"
     ]
    }
   ],
   "source": [
    "# stochastic gradient descent training for nn\n",
    "# name parameter saves nn as a folder ./name\n",
    "def train_nn(name):\n",
    "\n",
    "    # create a 3 hidden layer nn\n",
    "    # input layer takes 784 row 1 col array of nodes\n",
    "    # nodes have a brightness value 0...255 of its brightness in the image\n",
    "    # 2 hidden layers using relu activation and output layer using softmax to compress values between 0...1\n",
    "    nn = tf.keras.Sequential(\n",
    "        [\n",
    "            tf.keras.layers.Input(shape=(784,), name='a0'),\n",
    "            tf.keras.layers.Dense(units=128, activation='relu', name='a1'),\n",
    "            tf.keras.layers.Dense(units=128, activation='relu', name='a2'),\n",
    "            tf.keras.layers.Dense(units=10, activation='softmax', name='a3'),\n",
    "        ]\n",
    "    )\n",
    "\n",
    "    # fit the nn to the training data\n",
    "    nn.compile(optimizer='adam', loss='sparse_categorical_crossentropy', metrics=['accuracy'])\n",
    "    nn.fit(imgs, labels, epochs=5)\n",
    "\n",
    "    # test the nn on the test data and see its performance loss and acc\n",
    "    loss, acc = nn.evaluate(imgs_test, labels_test)\n",
    "    print(f'test_data:\\nloss: {loss}\\nacc: {acc}\\n')\n",
    "    nn.save(name)\n",
    "\n",
    "train_nn('handwritten_ml')"
   ]
  }
 ],
 "metadata": {
  "kernelspec": {
   "display_name": "Python 3.10.1 64-bit",
   "language": "python",
   "name": "python3"
  },
  "language_info": {
   "codemirror_mode": {
    "name": "ipython",
    "version": 3
   },
   "file_extension": ".py",
   "mimetype": "text/x-python",
   "name": "python",
   "nbconvert_exporter": "python",
   "pygments_lexer": "ipython3",
   "version": "3.10.1"
  },
  "orig_nbformat": 4,
  "vscode": {
   "interpreter": {
    "hash": "3b79a9603654acc1a1dda7ab9d7fbeea5670a7835087b35cd5f08522a1762abf"
   }
  }
 },
 "nbformat": 4,
 "nbformat_minor": 2
}
